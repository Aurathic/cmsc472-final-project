{
  "nbformat": 4,
  "nbformat_minor": 0,
  "metadata": {
    "colab": {
      "provenance": []
    },
    "kernelspec": {
      "name": "python3",
      "display_name": "Python 3"
    },
    "language_info": {
      "name": "python"
    }
  },
  "cells": [
    {
      "cell_type": "code",
      "source": [
        "from google.colab import drive\n",
        "drive.mount('drive')\n",
        "\n"
      ],
      "metadata": {
        "colab": {
          "base_uri": "https://localhost:8080/"
        },
        "id": "emxameMHx70g",
        "outputId": "6049fd8a-1935-4077-e2a7-e4e3c5e54035"
      },
      "execution_count": null,
      "outputs": [
        {
          "output_type": "stream",
          "name": "stdout",
          "text": [
            "Mounted at drive\n"
          ]
        }
      ]
    },
    {
      "cell_type": "code",
      "execution_count": null,
      "metadata": {
        "colab": {
          "base_uri": "https://localhost:8080/"
        },
        "id": "I5hHfVd_sJBF",
        "outputId": "cadeb5a8-1eea-4b89-daf9-1de4d42d08b7"
      },
      "outputs": [
        {
          "output_type": "stream",
          "name": "stdout",
          "text": [
            "cp: cannot create regular file 'drive/My Drive/': No such file or directory\n",
            "cp: cannot create regular file 'drive/My Drive/': No such file or directory\n",
            "cp: cannot create regular file 'drive/My Drive/': No such file or directory\n",
            "116568\n",
            "38856\n",
            "38855\n"
          ]
        }
      ],
      "source": [
        "from sklearn.model_selection import train_test_split\n",
        "import pandas as pd\n",
        "# assuming your DataFrame is called 'df' and the target variable column is called 'target'\n",
        "\n",
        "df= pd.read_csv('input.csv')\n",
        "df.columns = [\"text\", \"label\"]\n",
        "\n",
        "eval_df1, train_df = train_test_split(df, test_size=0.6, random_state=42, stratify=df[\"label\"])\n",
        "ensemble_df,eval_df= train_test_split(eval_df1, test_size=0.5, random_state=42, stratify=eval_df1[\"label\"])\n",
        "\n",
        "train_df.to_csv('train_df.csv')\n",
        "eval_df.to_csv('eval_df.csv')\n",
        "ensemble_df.to_csv('ensemble_df.csv')\n",
        "\n",
        "!cp train_df.csv \"drive/My Drive/\"\n",
        "!cp eval_df.csv \"drive/My Drive/\"\n",
        "!cp ensemble_df.csv \"drive/My Drive/\"\n",
        "print(len(train_df))\n",
        "print(len(eval_df))\n",
        "print(len(ensemble_df))"
      ]
    },
    {
      "cell_type": "code",
      "source": [],
      "metadata": {
        "id": "_FOY0o1bs2Ql"
      },
      "execution_count": null,
      "outputs": []
    }
  ]
}