{
  "nbformat": 4,
  "nbformat_minor": 0,
  "metadata": {
    "colab": {
      "provenance": []
    },
    "kernelspec": {
      "name": "python3",
      "display_name": "Python 3"
    },
    "language_info": {
      "name": "python"
    }
  },
  "cells": [
    {
      "cell_type": "code",
      "execution_count": null,
      "metadata": {
        "id": "qyY11pheU9ad"
      },
      "outputs": [],
      "source": [
        "import pandas as pd\n",
        "import numpy as np\n",
        "a= pd.read_csv('patient_notes 6.csv')\n",
        "a= a['pn_history']\n",
        "a\n",
        "np.savetxt(r'notes11.rtf', a.values, fmt='%s')\n"
      ]
    },
    {
      "cell_type": "code",
      "source": [
        "from simpletransformers.classification import ClassificationModel, ClassificationArgs\n",
        "\n",
        "import logging\n",
        "\n",
        "values = list(range(1, 41))\n",
        "keys = [' Allergy / Immunology', ' Autopsy', ' Bariatrics', ' Cardiovascular / Pulmonary', ' Chiropractic', ' Consult - History and Phy.', ' Cosmetic / Plastic Surgery', ' Dentistry', ' Dermatology', ' Diets and Nutritions', ' Discharge Summary', ' Emergency Room Reports', ' Endocrinology', ' ENT - Otolaryngology', ' Gastroenterology', ' General Medicine', ' Hematology - Oncology', ' Hospice - Palliative Care', ' IME-QME-Work Comp etc.', ' Lab Medicine - Pathology', ' Letters', ' Nephrology', ' Neurology', ' Neurosurgery', ' Obstetrics / Gynecology', ' Office Notes', ' Ophthalmology', ' Orthopedic', ' Pain Management', ' Pediatrics - Neonatal', ' Physical Medicine - Rehab', ' Podiatry', ' Psychiatry / Psychology', ' Radiology', ' Rheumatology', ' Sleep Medicine', ' SOAP / Chart / Progress Notes', ' Speech - Language', ' Surgery', ' Urology']\n",
        "\n",
        "hashmap1 = {keys[i]: values[i] for i in range(len(keys))}\n",
        "#print(hashmap1)\n",
        "\n",
        "df = pd.read_csv('mtsamples.csv')\n",
        "#df.head()\n",
        "df2 = df.filter(['transcription', 'medical_specialty'], axis=1)\n",
        "\n",
        "for index, row in df2.iterrows():\n",
        "  # print(row['medical_specialty'])\n",
        "  row['medical_specialty']= hashmap1[row['medical_specialty']]\n",
        "\n",
        "df2.columns = [\"text\", \"labels\"]\n",
        "#df2.head()\n",
        "\n",
        "logging.basicConfig(level=logging.INFO)\n",
        "transformers_logger = logging.getLogger(\"transformers\")\n",
        "transformers_logger.setLevel(logging.WARNING)\n",
        "\n",
        "train_file = df2\n",
        "\n",
        "model_args = ClassificationArgs(num_train_epochs=5)\n",
        "\n",
        "model = ClassificationModel(\"electra\", \"discriminator_trained/discriminator_model\", num_labels = 40, args=model_args)\n",
        "\n",
        "# Train the model\n",
        "model.train_model(train_file)\n",
        "\n",
        "# Evaluate the model\n",
        "result, model_outputs, wrong_predictions = model.eval_model(train_file)\n",
        "\n",
        "print(result)"
      ],
      "metadata": {
        "id": "drFsOc8OV4Eq"
      },
      "execution_count": null,
      "outputs": []
    },
    {
      "cell_type": "code",
      "source": [],
      "metadata": {
        "id": "4TSO0ebt_-Ch"
      },
      "execution_count": null,
      "outputs": []
    }
  ]
}